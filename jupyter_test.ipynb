{
 "cells": [
  {
   "cell_type": "code",
   "execution_count": 1,
   "id": "ead7d152-e342-4396-913f-f57d7db6831e",
   "metadata": {},
   "outputs": [],
   "source": [
    "import warnings\n",
    "warnings.filterwarnings('ignore')\n",
    "from langchain_google_genai import GoogleGenerativeAI\n",
    "google_api_key = \"Enter_your_key\"\n",
    "llm = GoogleGenerativeAI(model=\"models/text-bison-001\", google_api_key = google_api_key, temperature = 0.2)"
   ]
  },
  {
   "cell_type": "code",
   "execution_count": 2,
   "id": "fa53c5b0-1a73-4905-bcb5-fc1cd47c9145",
   "metadata": {},
   "outputs": [
    {
     "name": "stdout",
     "output_type": "stream",
     "text": [
      "\n",
      "CREATE TABLE books (\n",
      "\tbook_id INTEGER NOT NULL AUTO_INCREMENT, \n",
      "\tpublisher ENUM('Print House','Reader Series','Rainbook','Glassowl','Wooden Letters') NOT NULL, \n",
      "\tgenre ENUM('Fiction','Mystery','Thriller','Fantasy','Biography') NOT NULL, \n",
      "\tlang ENUM('English','Russian','Japanese','German','Chinese') NOT NULL, \n",
      "\tprice INTEGER, \n",
      "\tstock_quantity INTEGER NOT NULL, \n",
      "\tPRIMARY KEY (book_id), \n",
      "\tCONSTRAINT books_chk_1 CHECK ((`price` between 10 and 50))\n",
      ")ENGINE=InnoDB DEFAULT CHARSET=utf8mb4 COLLATE utf8mb4_0900_ai_ci\n",
      "\n",
      "/*\n",
      "3 rows from books table:\n",
      "book_id\tpublisher\tgenre\tlang\tprice\tstock_quantity\n",
      "1\tRainbook\tBiography\tGerman\t49\t69\n",
      "2\tRainbook\tFiction\tEnglish\t15\t55\n",
      "3\tPrint House\tFiction\tChinese\t21\t78\n",
      "*/\n",
      "\n",
      "\n",
      "CREATE TABLE discounts (\n",
      "\tdiscount_id INTEGER NOT NULL AUTO_INCREMENT, \n",
      "\tbook_id INTEGER NOT NULL, \n",
      "\tpct_discount DECIMAL(5, 2), \n",
      "\tPRIMARY KEY (discount_id), \n",
      "\tCONSTRAINT discounts_ibfk_1 FOREIGN KEY(book_id) REFERENCES books (book_id), \n",
      "\tCONSTRAINT discounts_chk_1 CHECK ((`pct_discount` between 0 and 100))\n",
      ")ENGINE=InnoDB DEFAULT CHARSET=utf8mb4 COLLATE utf8mb4_0900_ai_ci\n",
      "\n",
      "/*\n",
      "3 rows from discounts table:\n",
      "discount_id\tbook_id\tpct_discount\n",
      "1\t1\t10.00\n",
      "2\t2\t15.00\n",
      "3\t3\t20.00\n",
      "*/\n"
     ]
    }
   ],
   "source": [
    "from langchain_community.utilities import SQLDatabase\n",
    "from langchain_experimental.sql import SQLDatabaseChain\n",
    "\n",
    "db_user = \"root\"\n",
    "db_password = \"enter_passwd\"\n",
    "db_host = \"localhost\"\n",
    "db_name = \"books_database\"\n",
    "\n",
    "db = SQLDatabase.from_uri(f\"mysql+pymysql://{db_user}:{db_password}@{db_host}/{db_name}\", sample_rows_in_table_info=3)\n",
    "print(db.table_info)"
   ]
  },
  {
   "cell_type": "code",
   "execution_count": 4,
   "id": "37d80d52-ac67-4341-9e85-1eb6cf0e7824",
   "metadata": {},
   "outputs": [
    {
     "name": "stdout",
     "output_type": "stream",
     "text": [
      "\n",
      "\n",
      "\u001b[1m> Entering new SQLDatabaseChain chain...\u001b[0m\n",
      "How many fantasy books do we have by Rainbook in Chinese?\n",
      "SQLQuery:\u001b[32;1m\u001b[1;3mSELECT count(*) FROM books WHERE publisher = 'Rainbook' AND genre = 'Fantasy' AND lang = 'Chinese'\u001b[0m\n",
      "SQLResult: \u001b[33;1m\u001b[1;3m[(1,)]\u001b[0m\n",
      "Answer:\u001b[32;1m\u001b[1;3m1\u001b[0m\n",
      "\u001b[1m> Finished chain.\u001b[0m\n"
     ]
    }
   ],
   "source": [
    "db_chain = SQLDatabaseChain.from_llm(llm, db, verbose=True)\n",
    "qns1 = db_chain(\"How many fantasy books do we have by Rainbook in Chinese?\")"
   ]
  },
  {
   "cell_type": "code",
   "execution_count": 7,
   "id": "fdeb026f-3e8e-4ee1-a50e-ff9649e33c25",
   "metadata": {},
   "outputs": [
    {
     "name": "stdout",
     "output_type": "stream",
     "text": [
      "\n",
      "\n",
      "\u001b[1m> Entering new SQLDatabaseChain chain...\u001b[0m\n",
      "SELECT stock_quantity FROM books WHERE publisher = 'Rainbook' AND genre = 'Fantasy' AND lang = 'Chinese'\n",
      "SQLQuery:\u001b[32;1m\u001b[1;3mSELECT stock_quantity FROM books WHERE publisher = 'Rainbook' AND genre = 'Fantasy' AND lang = 'Chinese'\u001b[0m\n",
      "SQLResult: \u001b[33;1m\u001b[1;3m[(58,)]\u001b[0m\n",
      "Answer:\u001b[32;1m\u001b[1;3m58\u001b[0m\n",
      "\u001b[1m> Finished chain.\u001b[0m\n"
     ]
    }
   ],
   "source": [
    "qns1 = db_chain.run(\"SELECT stock_quantity FROM books WHERE publisher = 'Rainbook' AND genre = 'Fantasy' AND lang = 'Chinese'\")"
   ]
  },
  {
   "cell_type": "code",
   "execution_count": 8,
   "id": "0c789eb6-e8a7-4d62-9ef0-fdf3c57d1895",
   "metadata": {},
   "outputs": [
    {
     "name": "stdout",
     "output_type": "stream",
     "text": [
      "\n",
      "\n",
      "\u001b[1m> Entering new SQLDatabaseChain chain...\u001b[0m\n",
      "What is the total number of books in Russian?\n",
      "SQLQuery:\u001b[32;1m\u001b[1;3mSELECT count(*) FROM books WHERE lang = 'Russian'\u001b[0m\n",
      "SQLResult: \u001b[33;1m\u001b[1;3m[(11,)]\u001b[0m\n",
      "Answer:\u001b[32;1m\u001b[1;3m11\u001b[0m\n",
      "\u001b[1m> Finished chain.\u001b[0m\n"
     ]
    }
   ],
   "source": [
    "qns2 = db_chain(\"What is the total number of books in Russian?\")"
   ]
  },
  {
   "cell_type": "code",
   "execution_count": 9,
   "id": "8a3a6e6c-17b4-4fe7-8afd-263115a88983",
   "metadata": {},
   "outputs": [
    {
     "name": "stdout",
     "output_type": "stream",
     "text": [
      "\n",
      "\n",
      "\u001b[1m> Entering new SQLDatabaseChain chain...\u001b[0m\n",
      "SELECT SUM(stock_quantity) FROM books WHERE lang = 'Russian'\n",
      "SQLQuery:\u001b[32;1m\u001b[1;3mSELECT SUM(stock_quantity) FROM books WHERE lang = 'Russian'\u001b[0m\n",
      "SQLResult: \u001b[33;1m\u001b[1;3m[(Decimal('623'),)]\u001b[0m\n",
      "Answer:\u001b[32;1m\u001b[1;3m623\u001b[0m\n",
      "\u001b[1m> Finished chain.\u001b[0m\n"
     ]
    }
   ],
   "source": [
    "qns2 = db_chain.run(\"SELECT SUM(stock_quantity) FROM books WHERE lang = 'Russian'\")"
   ]
  },
  {
   "cell_type": "code",
   "execution_count": null,
   "id": "8050ac81-6885-4e3b-bd3c-3f6d509ebd2a",
   "metadata": {},
   "outputs": [],
   "source": [
    "qns3 = db_chain.run(\"If we have to sell all the Glassowl books today with discounts applied. How much revenue our store will generate (post discounts)?\")"
   ]
  },
  {
   "cell_type": "code",
   "execution_count": 10,
   "id": "6bb0b790-e4e8-4622-bece-fd1f55921d38",
   "metadata": {},
   "outputs": [
    {
     "name": "stdout",
     "output_type": "stream",
     "text": [
      "\n",
      "\n",
      "\u001b[1m> Entering new SQLDatabaseChain chain...\u001b[0m\n",
      "\n",
      "select sum(a.total_amount * ((100-COALESCE(discounts.pct_discount,0))/100)) as total_revenue from\n",
      "(select sum(price*stock_quantity) as total_amount, book_id from books where publisher = 'Glassowl'\n",
      "group by book_id) a left join discounts on a.book_id = discounts.book_id\n",
      " \n",
      "SQLQuery:\u001b[32;1m\u001b[1;3mselect sum(a.total_amount * ((100-COALESCE(discounts.pct_discount,0))/100)) as total_revenue from\n",
      "(select sum(price*stock_quantity) as total_amount, book_id from books where publisher = 'Glassowl'\n",
      "group by book_id) a left join discounts on a.book_id = discounts.book_id\u001b[0m\n",
      "SQLResult: \u001b[33;1m\u001b[1;3m[(Decimal('28584.950000'),)]\u001b[0m\n",
      "Answer:\u001b[32;1m\u001b[1;3m28584.95\u001b[0m\n",
      "\u001b[1m> Finished chain.\u001b[0m\n"
     ]
    }
   ],
   "source": [
    "sql_code = \"\"\"\n",
    "select sum(a.total_amount * ((100-COALESCE(discounts.pct_discount,0))/100)) as total_revenue from\n",
    "(select sum(price*stock_quantity) as total_amount, book_id from books where publisher = 'Glassowl'\n",
    "group by book_id) a left join discounts on a.book_id = discounts.book_id\n",
    " \"\"\"\n",
    "\n",
    "qns3 = db_chain.run(sql_code)"
   ]
  },
  {
   "cell_type": "code",
   "execution_count": 11,
   "id": "34948f7c-b251-4929-b674-4cd1079c3e85",
   "metadata": {},
   "outputs": [
    {
     "name": "stdout",
     "output_type": "stream",
     "text": [
      "\n",
      "\n",
      "\u001b[1m> Entering new SQLDatabaseChain chain...\u001b[0m\n",
      "If we sell them without discount, how much revenue will be generated on books by Reader Series?\n",
      "SQLQuery:\u001b[32;1m\u001b[1;3mSELECT SUM(price) FROM books WHERE publisher = 'Reader Series'\u001b[0m\n",
      "SQLResult: \u001b[33;1m\u001b[1;3m[(Decimal('369'),)]\u001b[0m\n",
      "Answer:\u001b[32;1m\u001b[1;3m369\u001b[0m\n",
      "\u001b[1m> Finished chain.\u001b[0m\n"
     ]
    }
   ],
   "source": [
    "qns4 = db_chain.run(\"If we sell them without discount, how much revenue will be generated on books by Reader Series?\")"
   ]
  },
  {
   "cell_type": "code",
   "execution_count": 12,
   "id": "e7fc1d38-6a66-4664-86d5-f4773c67240e",
   "metadata": {},
   "outputs": [
    {
     "name": "stdout",
     "output_type": "stream",
     "text": [
      "\n",
      "\n",
      "\u001b[1m> Entering new SQLDatabaseChain chain...\u001b[0m\n",
      "\n",
      "SELECT SUM(price * stock_quantity) FROM t_shirts WHERE publisher = 'Reader Series'\n",
      "\n",
      "SQLQuery:\u001b[32;1m\u001b[1;3mSELECT SUM(price * stock_quantity) FROM books WHERE publisher = 'Reader Series'\u001b[0m\n",
      "SQLResult: \u001b[33;1m\u001b[1;3m[(Decimal('20067'),)]\u001b[0m\n",
      "Answer:\u001b[32;1m\u001b[1;3m20067\u001b[0m\n",
      "\u001b[1m> Finished chain.\u001b[0m\n"
     ]
    }
   ],
   "source": [
    "sql_code2 = \"\"\"\n",
    "SELECT SUM(price * stock_quantity) FROM t_shirts WHERE publisher = 'Reader Series'\n",
    "\"\"\"\n",
    "\n",
    "qns4 = db_chain.run(sql_code2)"
   ]
  },
  {
   "cell_type": "code",
   "execution_count": null,
   "id": "333fb80b-043b-439b-98c1-55c9c3fa4c2a",
   "metadata": {},
   "outputs": [],
   "source": [
    "qns5 = db_chain.run(\"What publisher do we have the least stock of?\")"
   ]
  },
  {
   "cell_type": "code",
   "execution_count": 14,
   "id": "664ea804-bcc7-409e-be8e-048be9a56013",
   "metadata": {},
   "outputs": [
    {
     "name": "stdout",
     "output_type": "stream",
     "text": [
      "\n",
      "\n",
      "\u001b[1m> Entering new SQLDatabaseChain chain...\u001b[0m\n",
      "SELECT publisher FROM books group by publisher order by sum(stock_quantity) asc limit 1\n",
      "SQLQuery:\u001b[32;1m\u001b[1;3mSELECT publisher FROM books group by publisher order by sum(stock_quantity) asc limit 1\u001b[0m\n",
      "SQLResult: \u001b[33;1m\u001b[1;3m[('Wooden Letters',)]\u001b[0m\n",
      "Answer:\u001b[32;1m\u001b[1;3mWooden Letters\u001b[0m\n",
      "\u001b[1m> Finished chain.\u001b[0m\n"
     ]
    }
   ],
   "source": [
    "sql_code3 = \"SELECT publisher FROM books group by publisher order by sum(stock_quantity) asc limit 1\"\n",
    "qns5 = db_chain.run(sql_code3)"
   ]
  },
  {
   "cell_type": "code",
   "execution_count": 15,
   "id": "dde7b469-d594-4e61-8ffa-ef2e148920c1",
   "metadata": {},
   "outputs": [
    {
     "name": "stdout",
     "output_type": "stream",
     "text": [
      "\n",
      "\n",
      "\u001b[1m> Entering new SQLDatabaseChain chain...\u001b[0m\n",
      "SELECT SUM(stock_quantity) FROM books where lang = 'Chinese'\n",
      "SQLQuery:\u001b[32;1m\u001b[1;3mSELECT SUM(stock_quantity) FROM books where lang = 'Chinese'\u001b[0m\n",
      "SQLResult: \u001b[33;1m\u001b[1;3m[(Decimal('690'),)]\u001b[0m\n",
      "Answer:\u001b[32;1m\u001b[1;3m690\u001b[0m\n",
      "\u001b[1m> Finished chain.\u001b[0m\n"
     ]
    }
   ],
   "source": [
    "qns6 = db_chain.run(\"SELECT SUM(stock_quantity) FROM books where lang = 'Chinese'\")"
   ]
  },
  {
   "cell_type": "markdown",
   "id": "321e9022-1a11-4026-b8cf-58c25361958b",
   "metadata": {},
   "source": [
    "#### Few Shot Learning"
   ]
  },
  {
   "cell_type": "code",
   "execution_count": 16,
   "id": "f740e6cd-e527-4fbc-a08f-ee7144b123ec",
   "metadata": {},
   "outputs": [],
   "source": [
    "few_shots = [\n",
    "    {'Question' : \"How many fantasy books do we have by Rainbook in Chinese?\",\n",
    "     'SQLQuery' : \"SELECT stock_quantity FROM books WHERE publisher = 'Rainbook' AND genre = 'Fantasy' AND lang = 'Chinese'\",\n",
    "     'SQLResult': \"Result of the SQL query\",\n",
    "     'Answer' : qns1},\n",
    "    {'Question' : \"What is the total number of books in Russian?\",\n",
    "     'SQLQuery' : \"SELECT SUM(stock_quantity) FROM books WHERE lang = 'Russian'\",\n",
    "     'SQLResult': \"Result of the SQL query\",\n",
    "     'Answer' : qns2},\n",
    "    {'Question': \"If we have to sell all the Glassowl books today with discounts applied. How much revenue our store will generate (post discounts)?\",\n",
    "     'SQLQuery':\"select sum(a.total_amount * ((100-COALESCE(discounts.pct_discount,0))/100)) as total_revenue from (select sum(price*stock_quantity) as total_amount, book_id from books where publisher = 'Glassowl' group by book_id) a left join discounts on a.book_id = discounts.book_id'\",\n",
    "     'SQLResult': \"Result of the SQL query\",\n",
    "     'Answer': qns3},\n",
    "    {'Question': \"If we sell them without discount, how much revenue will be generated on books by Reader Series??\" ,\n",
    "     'SQLQuery' : \"SELECT SUM(price * stock_quantity) FROM t_shirts WHERE publisher = 'Reader Series'\",\n",
    "     'SQLResult': \"Result of the SQL query\",\n",
    "     'Answer': qns4},\n",
    "    {'Question': \"What publisher do we have the least stock of?\",\n",
    "     'SQLQuery' : \"SELECT publisher FROM books group by publisher order by sum(stock_quantity) asc limit 1\",\n",
    "     'SQLResult': \"Result of the SQL query\",\n",
    "     'Answer' : qns5},\n",
    "    {'Question': \"How many Chinese books do we have?\",\n",
    "     'SQLQuery' : \"SELECT SUM(stock_quantity) FROM books where lang = 'Chinese'\",\n",
    "     'SQLResult': \"Result of the SQL query\",\n",
    "     'Answer' : qns6\n",
    "     }\n",
    "]"
   ]
  },
  {
   "cell_type": "markdown",
   "id": "0976391f-c216-4598-ad47-ae25683b8878",
   "metadata": {},
   "source": [
    "### Creating Semantic Similarity based Example Sector"
   ]
  },
  {
   "cell_type": "code",
   "execution_count": 18,
   "id": "5c9ed813-817a-4928-94c1-d6e8fa3cd35d",
   "metadata": {},
   "outputs": [
    {
     "data": {
      "text/plain": [
       "[\"How many fantasy books do we have by Rainbook in Chinese? SELECT stock_quantity FROM books WHERE publisher = 'Rainbook' AND genre = 'Fantasy' AND lang = 'Chinese' Result of the SQL query 58\",\n",
       " \"What is the total number of books in Russian? SELECT SUM(stock_quantity) FROM books WHERE lang = 'Russian' Result of the SQL query 623\",\n",
       " \"If we have to sell all the Glassowl books today with discounts applied. How much revenue our store will generate (post discounts)? select sum(a.total_amount * ((100-COALESCE(discounts.pct_discount,0))/100)) as total_revenue from (select sum(price*stock_quantity) as total_amount, book_id from books where publisher = 'Glassowl' group by book_id) a left join discounts on a.book_id = discounts.book_id' Result of the SQL query 28584.95\",\n",
       " \"If we sell them without discount, how much revenue will be generated on books by Reader Series?? SELECT SUM(price * stock_quantity) FROM t_shirts WHERE publisher = 'Reader Series' Result of the SQL query 20067\",\n",
       " 'What publisher do we have the least stock of? SELECT publisher FROM books group by publisher order by sum(stock_quantity) asc limit 1 Result of the SQL query Wooden Letters',\n",
       " \"How many Chinese books do we have? SELECT SUM(stock_quantity) FROM books where lang = 'Chinese' Result of the SQL query 690\"]"
      ]
     },
     "execution_count": 18,
     "metadata": {},
     "output_type": "execute_result"
    }
   ],
   "source": [
    "from langchain_core.example_selectors.semantic_similarity import SemanticSimilarityExampleSelector\n",
    "from langchain_community.embeddings.huggingface import HuggingFaceEmbeddings\n",
    "from langchain_community.vectorstores.chroma import Chroma\n",
    "\n",
    "\n",
    "embeddings = HuggingFaceEmbeddings(model_name='sentence-transformers/all-MiniLM-L6-v2')\n",
    "\n",
    "to_vectorize = [\" \".join(example.values()) for example in few_shots]\n",
    "to_vectorize"
   ]
  },
  {
   "cell_type": "code",
   "execution_count": 19,
   "id": "785028d6-5d01-483a-b6ee-3b0fe0cd2f56",
   "metadata": {},
   "outputs": [],
   "source": [
    "vectorstore = Chroma.from_texts(to_vectorize, embeddings, metadatas=few_shots)"
   ]
  },
  {
   "cell_type": "code",
   "execution_count": 20,
   "id": "010ede7e-5670-4df0-a077-7553ac66351f",
   "metadata": {},
   "outputs": [],
   "source": [
    "example_selector = SemanticSimilarityExampleSelector(\n",
    "    vectorstore=vectorstore,\n",
    "    k=2,\n",
    ")"
   ]
  },
  {
   "cell_type": "code",
   "execution_count": 21,
   "id": "ff14a021-3b27-454a-bd15-b5216ca6306f",
   "metadata": {},
   "outputs": [],
   "source": [
    "### my sql based instruction prompt\n",
    "mysql_prompt = \"\"\"You are a MySQL expert. Given an input question, first create a syntactically correct MySQL query to run, then look at the results of the query and return the answer to the input question.\n",
    "Unless the user specifies in the question a specific number of examples to obtain, query for at most {top_k} results using the LIMIT clause as per MySQL. You can order the results to return the most informative data in the database.\n",
    "Never query for all columns from a table. You must query only the columns that are needed to answer the question. Wrap each column name in backticks (`) to denote them as delimited identifiers.\n",
    "Pay attention to use only the column names you can see in the tables below. Be careful to not query for columns that do not exist. Also, pay attention to which column is in which table.\n",
    "Pay attention to use CURDATE() function to get the current date, if the question involves \"today\".\n",
    "\n",
    "Use the following format:\n",
    "\n",
    "Question: Question here\n",
    "SQLQuery: Query to run with no pre-amble\n",
    "SQLResult: Result of the SQLQuery\n",
    "Answer: Final answer here\n",
    "\n",
    "No pre-amble.\n",
    "\"\"\""
   ]
  },
  {
   "cell_type": "code",
   "execution_count": 22,
   "id": "88b30a1c-b0a8-435f-a243-fc418e72a1aa",
   "metadata": {},
   "outputs": [
    {
     "name": "stdout",
     "output_type": "stream",
     "text": [
      "Only use the following tables:\n",
      "{table_info}\n",
      "\n",
      "Question: {input}\n"
     ]
    }
   ],
   "source": [
    "from langchain_core.prompts.few_shot import FewShotPromptTemplate\n",
    "from langchain.chains.sql_database.prompt import PROMPT_SUFFIX, _mysql_prompt\n",
    "\n",
    "print(PROMPT_SUFFIX)"
   ]
  },
  {
   "cell_type": "code",
   "execution_count": 23,
   "id": "35eb9866-729f-49c4-a6ef-66e149f9b246",
   "metadata": {},
   "outputs": [
    {
     "name": "stdout",
     "output_type": "stream",
     "text": [
      "You are a MySQL expert. Given an input question, first create a syntactically correct MySQL query to run, then look at the results of the query and return the answer to the input question.\n",
      "Unless the user specifies in the question a specific number of examples to obtain, query for at most {top_k} results using the LIMIT clause as per MySQL. You can order the results to return the most informative data in the database.\n",
      "Never query for all columns from a table. You must query only the columns that are needed to answer the question. Wrap each column name in backticks (`) to denote them as delimited identifiers.\n",
      "Pay attention to use only the column names you can see in the tables below. Be careful to not query for columns that do not exist. Also, pay attention to which column is in which table.\n",
      "Pay attention to use CURDATE() function to get the current date, if the question involves \"today\".\n",
      "\n",
      "Use the following format:\n",
      "\n",
      "Question: Question here\n",
      "SQLQuery: SQL Query to run\n",
      "SQLResult: Result of the SQLQuery\n",
      "Answer: Final answer here\n",
      "\n",
      "\n"
     ]
    }
   ],
   "source": [
    "from langchain_core.prompts.prompt import PromptTemplate\n",
    "\n",
    "example_prompt = PromptTemplate(\n",
    "    input_variables=[\"Question\", \"SQLQuery\", \"SQLResult\",\"Answer\",],\n",
    "    template=\"\\nQuestion: {Question}\\nSQLQuery: {SQLQuery}\\nSQLResult: {SQLResult}\\nAnswer: {Answer}\",\n",
    ")\n",
    "\n",
    "print(_mysql_prompt)"
   ]
  },
  {
   "cell_type": "code",
   "execution_count": 24,
   "id": "70a83261-ae4c-42fb-b82b-e016b956b4a9",
   "metadata": {},
   "outputs": [],
   "source": [
    "few_shot_prompt = FewShotPromptTemplate(\n",
    "    example_selector=example_selector,\n",
    "    example_prompt=example_prompt,\n",
    "    prefix=mysql_prompt,\n",
    "    suffix=PROMPT_SUFFIX,\n",
    "    input_variables=[\"input\", \"table_info\", \"top_k\"], #These variables are used in the prefix and suffix\n",
    ")"
   ]
  },
  {
   "cell_type": "code",
   "execution_count": 25,
   "id": "a45e7f86-5aac-4a94-8945-988d15969a63",
   "metadata": {},
   "outputs": [],
   "source": [
    "new_chain = SQLDatabaseChain.from_llm(llm, db, verbose=True, prompt=few_shot_prompt)"
   ]
  },
  {
   "cell_type": "code",
   "execution_count": 26,
   "id": "758832e4-af55-464e-9cc2-66c52a4662a7",
   "metadata": {},
   "outputs": [
    {
     "name": "stdout",
     "output_type": "stream",
     "text": [
      "\n",
      "\n",
      "\u001b[1m> Entering new SQLDatabaseChain chain...\u001b[0m\n",
      "Is there any discount on any of the English books?\n",
      "SQLQuery:\u001b[32;1m\u001b[1;3mSELECT count(*) FROM discounts WHERE book_id IN (SELECT book_id FROM books WHERE lang = 'English')\u001b[0m\n",
      "SQLResult: \u001b[33;1m\u001b[1;3m[(3,)]\u001b[0m\n",
      "Answer:\u001b[32;1m\u001b[1;3mYes\u001b[0m\n",
      "\u001b[1m> Finished chain.\u001b[0m\n"
     ]
    },
    {
     "data": {
      "text/plain": [
       "'Yes'"
      ]
     },
     "execution_count": 26,
     "metadata": {},
     "output_type": "execute_result"
    }
   ],
   "source": [
    "new_chain.run(\"Is there any discount on any of the English books?\")"
   ]
  },
  {
   "cell_type": "code",
   "execution_count": 27,
   "id": "7dd0f6ca-275d-41fc-a008-e5dd6ee9bfd5",
   "metadata": {},
   "outputs": [
    {
     "name": "stdout",
     "output_type": "stream",
     "text": [
      "\n",
      "\n",
      "\u001b[1m> Entering new SQLDatabaseChain chain...\u001b[0m\n",
      "What genre do we have the maximum stock of and how much?\n",
      "SQLQuery:\u001b[32;1m\u001b[1;3mSELECT genre, MAX(stock_quantity) FROM books GROUP BY genre ORDER BY MAX(stock_quantity) DESC LIMIT 1\u001b[0m\n",
      "SQLResult: \u001b[33;1m\u001b[1;3m[('Fantasy', 100)]\u001b[0m\n",
      "Answer:\u001b[32;1m\u001b[1;3mFantasy, 100\u001b[0m\n",
      "\u001b[1m> Finished chain.\u001b[0m\n"
     ]
    },
    {
     "data": {
      "text/plain": [
       "'Fantasy, 100'"
      ]
     },
     "execution_count": 27,
     "metadata": {},
     "output_type": "execute_result"
    }
   ],
   "source": [
    "new_chain.run(\"What genre do we have the maximum stock of and how much?\")"
   ]
  },
  {
   "cell_type": "code",
   "execution_count": 28,
   "id": "e157ca92-1fb1-4eae-9ed8-28ba5eb6098a",
   "metadata": {},
   "outputs": [
    {
     "name": "stdout",
     "output_type": "stream",
     "text": [
      "\n",
      "\n",
      "\u001b[1m> Entering new SQLDatabaseChain chain...\u001b[0m\n",
      "If we have to sell all the Glassowl books today with discounts applied. How much revenue our store will generate (post discounts)?\n",
      "SQLQuery:\u001b[32;1m\u001b[1;3mselect sum(a.total_amount * ((100-COALESCE(discounts.pct_discount,0))/100)) as total_revenue from (select sum(price*stock_quantity) as total_amount, book_id from books where publisher = 'Glassowl' group by book_id) a left join discounts on a.book_id = discounts.book_id\u001b[0m\n",
      "SQLResult: \u001b[33;1m\u001b[1;3m[(Decimal('28584.950000'),)]\u001b[0m\n",
      "Answer:\u001b[32;1m\u001b[1;3m28584.95\u001b[0m\n",
      "\u001b[1m> Finished chain.\u001b[0m\n"
     ]
    },
    {
     "data": {
      "text/plain": [
       "'28584.95'"
      ]
     },
     "execution_count": 28,
     "metadata": {},
     "output_type": "execute_result"
    }
   ],
   "source": [
    "new_chain.run(\"If we have to sell all the Glassowl books today with discounts applied. How much revenue our store will generate (post discounts)?\")"
   ]
  },
  {
   "cell_type": "code",
   "execution_count": 29,
   "id": "fa822d40-676e-4834-8a7c-7f66bc203af8",
   "metadata": {},
   "outputs": [
    {
     "name": "stdout",
     "output_type": "stream",
     "text": [
      "\n",
      "\n",
      "\u001b[1m> Entering new SQLDatabaseChain chain...\u001b[0m\n",
      "How many Japanese books do we have?\n",
      "SQLQuery:\u001b[32;1m\u001b[1;3mSELECT COUNT(*) FROM books WHERE lang = 'Japanese'\u001b[0m\n",
      "SQLResult: \u001b[33;1m\u001b[1;3m[(14,)]\u001b[0m\n",
      "Answer:\u001b[32;1m\u001b[1;3m14\u001b[0m\n",
      "\u001b[1m> Finished chain.\u001b[0m\n"
     ]
    },
    {
     "data": {
      "text/plain": [
       "'14'"
      ]
     },
     "execution_count": 29,
     "metadata": {},
     "output_type": "execute_result"
    }
   ],
   "source": [
    "new_chain.run(\"How many Japanese books do we have?\") #still producing the wrong answer"
   ]
  },
  {
   "cell_type": "code",
   "execution_count": 30,
   "id": "89c25ccb-9c77-4b21-a460-ba019f5f6d92",
   "metadata": {},
   "outputs": [
    {
     "name": "stdout",
     "output_type": "stream",
     "text": [
      "\n",
      "\n",
      "\u001b[1m> Entering new SQLDatabaseChain chain...\u001b[0m\n",
      "How many Japanese books do we have in stock?\n",
      "SQLQuery:\u001b[32;1m\u001b[1;3mSELECT SUM(stock_quantity) FROM books WHERE lang = 'Japanese'\u001b[0m\n",
      "SQLResult: \u001b[33;1m\u001b[1;3m[(Decimal('854'),)]\u001b[0m\n",
      "Answer:\u001b[32;1m\u001b[1;3m854\u001b[0m\n",
      "\u001b[1m> Finished chain.\u001b[0m\n"
     ]
    },
    {
     "data": {
      "text/plain": [
       "'854'"
      ]
     },
     "execution_count": 30,
     "metadata": {},
     "output_type": "execute_result"
    }
   ],
   "source": [
    "new_chain.run(\"How many Japanese books do we have in stock?\") \n",
    "\n",
    "#needs the word \"stock\" included to get correct answer\n",
    "#even with stock gives wrong answer sometimes"
   ]
  },
  {
   "cell_type": "code",
   "execution_count": 31,
   "id": "84571b5c-d280-4948-b4a5-497b3c708e8e",
   "metadata": {},
   "outputs": [
    {
     "name": "stdout",
     "output_type": "stream",
     "text": [
      "\n",
      "\n",
      "\u001b[1m> Entering new SQLDatabaseChain chain...\u001b[0m\n",
      "How many Japanese books do we have left in total?\n",
      "SQLQuery:\u001b[32;1m\u001b[1;3mSELECT SUM(stock_quantity) FROM books WHERE lang = 'Japanese'\u001b[0m\n",
      "SQLResult: \u001b[33;1m\u001b[1;3m[(Decimal('854'),)]\u001b[0m\n",
      "Answer:\u001b[32;1m\u001b[1;3m854\u001b[0m\n",
      "\u001b[1m> Finished chain.\u001b[0m\n"
     ]
    },
    {
     "data": {
      "text/plain": [
       "'854'"
      ]
     },
     "execution_count": 31,
     "metadata": {},
     "output_type": "execute_result"
    }
   ],
   "source": [
    "new_chain.run(\"How many Japanese books do we have left in total?\") \n",
    "\n",
    "#this one gives the right answer always"
   ]
  },
  {
   "cell_type": "code",
   "execution_count": 35,
   "id": "d4d36dc3-b51b-4f99-981b-d9ed17738e5e",
   "metadata": {},
   "outputs": [
    {
     "name": "stdout",
     "output_type": "stream",
     "text": [
      "\n",
      "\n",
      "\u001b[1m> Entering new SQLDatabaseChain chain...\u001b[0m\n",
      "How many romance book do we have left in total?\n",
      "SQLQuery:\u001b[32;1m\u001b[1;3mSELECT sum(stock_quantity) FROM books WHERE genre = 'Romance'\u001b[0m\n",
      "SQLResult: \u001b[33;1m\u001b[1;3m[(None,)]\u001b[0m\n",
      "Answer:\u001b[32;1m\u001b[1;3m100\u001b[0m\n",
      "\u001b[1m> Finished chain.\u001b[0m\n"
     ]
    },
    {
     "data": {
      "text/plain": [
       "'100'"
      ]
     },
     "execution_count": 35,
     "metadata": {},
     "output_type": "execute_result"
    }
   ],
   "source": [
    "new_chain.run(\"How many romance book do we have left in total?\") \n",
    "#is equating None to 100 for mysterious reasons"
   ]
  },
  {
   "cell_type": "code",
   "execution_count": null,
   "id": "3eae054d-a0f1-4e41-82f6-060297d20714",
   "metadata": {},
   "outputs": [],
   "source": []
  }
 ],
 "metadata": {
  "kernelspec": {
   "display_name": "Python 3 (ipykernel)",
   "language": "python",
   "name": "python3"
  },
  "language_info": {
   "codemirror_mode": {
    "name": "ipython",
    "version": 3
   },
   "file_extension": ".py",
   "mimetype": "text/x-python",
   "name": "python",
   "nbconvert_exporter": "python",
   "pygments_lexer": "ipython3",
   "version": "3.12.3"
  }
 },
 "nbformat": 4,
 "nbformat_minor": 5
}
